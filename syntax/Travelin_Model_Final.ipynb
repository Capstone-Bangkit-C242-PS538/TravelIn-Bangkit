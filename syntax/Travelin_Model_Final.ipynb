{
  "cells": [
    {
      "cell_type": "code",
      "execution_count": null,
      "metadata": {
        "colab": {
          "base_uri": "https://localhost:8080/"
        },
        "id": "Nf-1OihmDvl3",
        "outputId": "d0c70e2c-a957-45d8-e3be-a874f8891d32"
      },
      "outputs": [
        {
          "output_type": "stream",
          "name": "stdout",
          "text": [
            "Requirement already satisfied: requests in /usr/local/lib/python3.10/dist-packages (2.32.3)\n",
            "Requirement already satisfied: charset-normalizer<4,>=2 in /usr/local/lib/python3.10/dist-packages (from requests) (3.4.0)\n",
            "Requirement already satisfied: idna<4,>=2.5 in /usr/local/lib/python3.10/dist-packages (from requests) (3.10)\n",
            "Requirement already satisfied: urllib3<3,>=1.21.1 in /usr/local/lib/python3.10/dist-packages (from requests) (2.2.3)\n",
            "Requirement already satisfied: certifi>=2017.4.17 in /usr/local/lib/python3.10/dist-packages (from requests) (2024.8.30)\n",
            "Requirement already satisfied: datetime in /usr/local/lib/python3.10/dist-packages (5.5)\n",
            "Requirement already satisfied: zope.interface in /usr/local/lib/python3.10/dist-packages (from datetime) (7.2)\n",
            "Requirement already satisfied: pytz in /usr/local/lib/python3.10/dist-packages (from datetime) (2024.2)\n",
            "Requirement already satisfied: setuptools in /usr/local/lib/python3.10/dist-packages (from zope.interface->datetime) (75.1.0)\n",
            "Requirement already satisfied: pyyaml in /usr/local/lib/python3.10/dist-packages (6.0.2)\n",
            "Requirement already satisfied: h5py in /usr/local/lib/python3.10/dist-packages (3.12.1)\n",
            "Requirement already satisfied: numpy>=1.19.3 in /usr/local/lib/python3.10/dist-packages (from h5py) (1.26.4)\n"
          ]
        }
      ],
      "source": [
        "!pip install requests\n",
        "!pip install datetime\n",
        "!pip install pyyaml h5py"
      ]
    },
    {
      "cell_type": "code",
      "execution_count": null,
      "metadata": {
        "id": "Qntk88ClWY5Y"
      },
      "outputs": [],
      "source": [
        "import pandas as pd\n",
        "import numpy as np\n",
        "import requests\n",
        "import datetime\n",
        "import time\n",
        "import matplotlib.pyplot as plt\n",
        "from pathlib import Path # import Path from pathlib\n",
        "from geopy.distance import geodesic\n",
        "import tensorflow as tf\n",
        "from sklearn.model_selection import train_test_split\n",
        "from sklearn.preprocessing import LabelEncoder\n",
        "from tensorflow import keras\n",
        "from tensorflow.keras import layers, models\n",
        "from sklearn.preprocessing import MinMaxScaler\n",
        "\n",
        "from geopy.geocoders import Nominatim\n",
        "geolocator = Nominatim(user_agent=\"TravelIn\")"
      ]
    },
    {
      "cell_type": "code",
      "execution_count": null,
      "metadata": {
        "id": "vDQduiDGb_SO"
      },
      "outputs": [],
      "source": [
        "def api_get_coordinate(fetch_id):\n",
        "\n",
        "    api_url = \"https://backend-service1-473303426237.asia-southeast2.run.app/users\"\n",
        "\n",
        "    try:\n",
        "        # Mengambil data dari API\n",
        "        response = requests.get(api_url)\n",
        "        response.raise_for_status()\n",
        "        users_data = response.json()\n",
        "\n",
        "        latest_coordinate = None\n",
        "\n",
        "        # Mencari data untuk user yang diminta\n",
        "        for user in users_data:\n",
        "            user_id = user.get(\"userId\")\n",
        "            latitude = user.get(\"latitude\")\n",
        "            longitude = user.get(\"longitude\")\n",
        "            timestamp = user.get(\"timestamp\")\n",
        "\n",
        "            if user_id != fetch_id:\n",
        "                continue\n",
        "\n",
        "            if latitude is None or longitude is None:\n",
        "                print(f\"Error: Tidak ada koordinat untuk user ID {user_id}.\")   #Pesan Error\n",
        "                return None\n",
        "\n",
        "            if isinstance(timestamp, dict):\n",
        "                timestamp = timestamp.get('$date')\n",
        "\n",
        "            if timestamp is not None:\n",
        "                # Mengonversi timestamp ke objek datetime\n",
        "                timestamp_dt = datetime.datetime.strptime(timestamp, \"%Y-%m-%dT%H:%M:%S%z\")\n",
        "\n",
        "                # Simpan data jika ditemukan\n",
        "                latest_coordinate = {\n",
        "                    'user_id': user_id,\n",
        "                    'latitude': latitude,\n",
        "                    'longitude': longitude,\n",
        "                    'timestamp': timestamp_dt\n",
        "                }\n",
        "            else:\n",
        "                print(f\"Warning: Timestamp hilang untuk user ID {user_id}. Skipping this user.\") #Pesan Error\n",
        "\n",
        "        # Menampilkan hasil\n",
        "        if latest_coordinate:\n",
        "            return latest_coordinate  # Mengembalikan data koordinat\n",
        "        else:\n",
        "            print(f\"Tidak ada data ditemukan untuk user ID: {fetch_id}\") #Pesan Error\n",
        "            return None\n",
        "\n",
        "    except requests.exceptions.RequestException as e:\n",
        "        print(f\"Error fetching data from API: {e}\") #Pesan Error\n",
        "        return None\n",
        "    except ValueError as e:\n",
        "        print(f\"Error parsing JSON: {e}\") #Pesan Error\n",
        "        return None"
      ]
    },
    {
      "cell_type": "code",
      "execution_count": null,
      "metadata": {
        "id": "UUlnycTXDtcG"
      },
      "outputs": [],
      "source": [
        "def get_location_details(lat, longi):\n",
        "    try:\n",
        "        location = geolocator.reverse((lat, longi), exactly_one=True, language='in')\n",
        "        if location and 'address' in location.raw:\n",
        "            address = location.raw['address']\n",
        "            city = address.get('city') or address.get('town') or address.get('village')\n",
        "            state = address.get('state') or address.get('region')\n",
        "            country = address.get('country')\n",
        "\n",
        "            return city, state, country\n",
        "        else:\n",
        "            print(\"Error. Cannot fetch location details from coordinates!\") #Pesan Error\n",
        "            return None, None, None\n",
        "    except Exception as e:\n",
        "        print(f\"An unexpected error occurred while fetching location details: {e}\") #Pesan Error\n",
        "        return None, None, None"
      ]
    },
    {
      "cell_type": "code",
      "execution_count": null,
      "metadata": {
        "id": "uCC321xCBqvA"
      },
      "outputs": [],
      "source": [
        "def gps_locator(user_id):\n",
        "    try:\n",
        "        coordinates = api_get_coordinate(user_id)\n",
        "\n",
        "        if coordinates is not None:\n",
        "            lat = coordinates['latitude']\n",
        "            longi = coordinates['longitude']\n",
        "            print(f\"User ID : {user_id}\\n\")\n",
        "            print(\"---Location Details---\\n\")\n",
        "            print(f\"Latitude: {lat}\")\n",
        "            print(f\"Longitude: {longi}\")\n",
        "\n",
        "            #return user_id, lat, longi\n",
        "\n",
        "            # Mendapatkan detail lokasi\n",
        "            city, state, country = get_location_details(lat, longi)\n",
        "            if city and state and country:\n",
        "                print(f\"City: {city}\")\n",
        "                print(f\"State/Region: {state}\")\n",
        "                print(f\"Country: {country}\")\n",
        "\n",
        "                #return city, state, country\n",
        "            else:\n",
        "                print(\"Failed to retrieve location details.\") #Pesan Error\n",
        "        else:\n",
        "            print(f\"Could not retrieve location for user {user_id}\") #Pesan Error\n",
        "            return None, None  # Return None for both if location not found\n",
        "    except Exception as e:\n",
        "        print(f\"An error occurred: {e}\") #Pesan Error\n",
        "        return None, None  # Return None for both in case of an error"
      ]
    },
    {
      "cell_type": "code",
      "execution_count": null,
      "metadata": {
        "colab": {
          "base_uri": "https://localhost:8080/"
        },
        "id": "AcPROKFMsQ9m",
        "outputId": "90aabe86-dcfc-463f-927c-a476739f64fb"
      },
      "outputs": [
        {
          "output_type": "stream",
          "name": "stdout",
          "text": [
            "User ID : c72b39e9-12c2-4d75-bafb-00e0c6d9a70f\n",
            "\n",
            "---Location Details---\n",
            "\n",
            "Latitude: -6.1809267004964505\n",
            "Longitude: 106.83258922925201\n",
            "City: Daerah Khusus ibukota Jakarta\n",
            "State/Region: Jawa\n",
            "Country: Indonesia\n"
          ]
        }
      ],
      "source": [
        "#Contoh buat MD\n",
        "user_id_to_locate = \"c72b39e9-12c2-4d75-bafb-00e0c6d9a70f\"\n",
        "gps_locator(user_id_to_locate)"
      ]
    },
    {
      "cell_type": "code",
      "execution_count": null,
      "metadata": {
        "colab": {
          "base_uri": "https://localhost:8080/"
        },
        "id": "NIY-BMvxCGRx",
        "outputId": "c38532e6-413b-4346-d0c5-8c4984b8b645"
      },
      "outputs": [
        {
          "output_type": "stream",
          "name": "stdout",
          "text": [
            "    id place_id                place_name  \\\n",
            "0  165      165        Semarang Chinatown   \n",
            "1  068       68             Bendung Lepen   \n",
            "2  004        4  Atlantis Water Adventure   \n",
            "3  095       95             Heha Sky View   \n",
            "4  085       85                 Candi Ijo   \n",
            "\n",
            "                                         description       category  \\\n",
            "0  \"Terbentuknya Pecinan Semarang tak terlepas da...         budaya   \n",
            "1  \"Bendung Lepen sendiri dulunya merupakan salur...  taman-hiburan   \n",
            "2  \"Atlantis Water Adventure atau dikenal dengan ...  taman-hiburan   \n",
            "3  \"HeHa Sky View adalah salah satu tempat wisata...  taman-hiburan   \n",
            "4  \"Candi Ijo (bahasa Jawa: ꦕꦤ꧀ꦝꦶ​ꦆꦗꦺꦴ, translit....         budaya   \n",
            "\n",
            "         city  price rating       lat        long  \\\n",
            "0    Semarang  30000    4.5 -6.974992  110.424954   \n",
            "1  Yogyakarta      0    4.6 -7.831667  110.394512   \n",
            "2     Jakarta  94000    4.5 -6.124190  106.839134   \n",
            "3  Yogyakarta  15000    4.4 -7.849614  110.478324   \n",
            "4  Yogyakarta   5000    4.6 -7.783828  110.511899   \n",
            "\n",
            "                                           photo_url  \n",
            "0  https://storage.googleapis.com/capstone-projec...  \n",
            "1  https://storage.googleapis.com/capstone-projec...  \n",
            "2  https://storage.googleapis.com/capstone-projec...  \n",
            "3  https://storage.googleapis.com/capstone-projec...  \n",
            "4  https://storage.googleapis.com/capstone-projec...  \n"
          ]
        }
      ],
      "source": [
        "url = \"https://backend-service1-473303426237.asia-southeast2.run.app/places\"\n",
        "\n",
        "response = requests.get(url)\n",
        "response.raise_for_status()  # Raise an exception for bad status codes (4xx or 5xx)\n",
        "\n",
        "dataTempat = response.json()\n",
        "df = pd.DataFrame(dataTempat)\n",
        "print(df.head())"
      ]
    },
    {
      "cell_type": "code",
      "execution_count": null,
      "metadata": {
        "id": "s7tX46V0GvsI"
      },
      "outputs": [],
      "source": [
        "df['id'] = df['id'].astype('int64')\n",
        "df['place_id'] = df['place_id'].astype('int64')\n",
        "df['rating'] = df['rating'].astype('float64')"
      ]
    },
    {
      "cell_type": "code",
      "execution_count": null,
      "metadata": {
        "colab": {
          "base_uri": "https://localhost:8080/"
        },
        "id": "rdLOcD1wquMP",
        "outputId": "91ec5d94-d00c-4b18-b3d3-d80b50811f56"
      },
      "outputs": [
        {
          "output_type": "stream",
          "name": "stdout",
          "text": [
            "<class 'pandas.core.frame.DataFrame'>\n",
            "RangeIndex: 204 entries, 0 to 203\n",
            "Data columns (total 11 columns):\n",
            " #   Column       Non-Null Count  Dtype  \n",
            "---  ------       --------------  -----  \n",
            " 0   id           204 non-null    int64  \n",
            " 1   place_id     204 non-null    int64  \n",
            " 2   place_name   204 non-null    object \n",
            " 3   description  204 non-null    object \n",
            " 4   category     204 non-null    object \n",
            " 5   city         204 non-null    object \n",
            " 6   price        204 non-null    int64  \n",
            " 7   rating       204 non-null    float64\n",
            " 8   lat          204 non-null    float64\n",
            " 9   long         204 non-null    float64\n",
            " 10  photo_url    204 non-null    object \n",
            "dtypes: float64(3), int64(3), object(5)\n",
            "memory usage: 17.7+ KB\n"
          ]
        }
      ],
      "source": [
        "df.info()"
      ]
    },
    {
      "cell_type": "code",
      "source": [
        "import pickle\n",
        "def reccomended_destination(user_id):\n",
        "    # Ambil data tempat dari API\n",
        "    url = \"https://backend-service1-473303426237.asia-southeast2.run.app/places\"\n",
        "    response = requests.get(url)\n",
        "    response.raise_for_status()\n",
        "    dataTempat = response.json()\n",
        "    df_places = pd.DataFrame(dataTempat)\n",
        "\n",
        "    df_places['id'] = df_places['id'].astype('int64')\n",
        "    df_places['place_id'] = df_places['place_id'].astype('int64')\n",
        "    df_places['rating'] = df_places['rating'].astype('float64')\n",
        "\n",
        "    # Ambil Koordinat Pengguna\n",
        "    coordinates = api_get_coordinate(user_id)\n",
        "    if coordinates is None:\n",
        "        print(\"Could not retrieve user coordinates.\")\n",
        "        return None\n",
        "\n",
        "    user_lat = coordinates['latitude']\n",
        "    user_long = coordinates['longitude']\n",
        "\n",
        "    # Hitung Jarak Menggunakan Haversine (atau geopy)\n",
        "    df_places['distance'] = df_places.apply(\n",
        "        lambda row: geodesic((user_lat, user_long), (row['lat'], row['long'])).km, axis=1)\n",
        "\n",
        "    # Persiapan Data untuk Neural Network\n",
        "    user_lati = np.repeat(user_lat, len(df_places))\n",
        "    user_longi = np.repeat(user_long, len(df_places))\n",
        "    dest_lati = df_places['lat'].values\n",
        "    dest_longi = df_places['long'].values\n",
        "    rating = df_places['rating'].values\n",
        "    price = df_places['price'].values\n",
        "    distances = df_places['distance'].values\n",
        "    df_places['delta_lat'] = df_places['lat'] - user_lat\n",
        "    df_places['delta_long'] = df_places['long'] - user_long\n",
        "\n",
        "    X = df_places[['delta_lat', 'delta_long', 'rating', 'price']]\n",
        "    y = distances\n",
        "    scaler = MinMaxScaler()\n",
        "\n",
        "    y = scaler.fit_transform(y.reshape(-1, 1))\n",
        "    y = y.flatten()\n",
        "\n",
        "    # Split data menjadi training dan testing\n",
        "    X_train, X_test, y_train, y_test = train_test_split(X, y, test_size=0.2, random_state=42)\n",
        "\n",
        "    # Data Normalisasi\n",
        "    scaler = MinMaxScaler()\n",
        "    X_train = scaler.fit_transform(X_train)\n",
        "    X_test = scaler.transform(X_test)\n",
        "\n",
        "    # Melatih Model\n",
        "    early_stopping = keras.callbacks.EarlyStopping(monitor='val_loss', patience=10, restore_best_weights=True)\n",
        "    lr_schedule = keras.callbacks.LearningRateScheduler(lambda epoch: 1e-4 * (0.1 ** (epoch // 30)))\n",
        "\n",
        "    # Struktur Model yang Lebih Dalam\n",
        "    model = keras.Sequential([\n",
        "        layers.Dense(512, activation='relu', input_shape=(X_train.shape[1],)),\n",
        "        layers.Dropout(0.3),\n",
        "        layers.Dense(256, activation='relu'),\n",
        "        layers.Dense(128, activation='relu'),\n",
        "        layers.Dropout(0.2),\n",
        "        layers.Dense(64, activation='relu'),\n",
        "        layers.Dense(1, activation='linear')\n",
        "    ])\n",
        "\n",
        "    model.compile(optimizer=keras.optimizers.RMSprop(learning_rate=0.001),\n",
        "                  loss='mse',\n",
        "                  metrics=['mae'])\n",
        "\n",
        "    history = model.fit(X_train, y_train,\n",
        "                        epochs=100,\n",
        "                        batch_size=32,\n",
        "                        validation_split=0.2,\n",
        "                        callbacks=[early_stopping, lr_schedule])\n",
        "\n",
        "    # Evaluasi Model\n",
        "    loss, mae = model.evaluate(X_test, y_test)\n",
        "    print(f\"Model MAE: {mae:.2f} km\")\n",
        "\n",
        "    # Prediksi jarak untuk 5 tempat terdekat\n",
        "    predictions = model.predict(X_test)\n",
        "    df_predictions = pd.DataFrame({\n",
        "        'Actual Distance': y_test,\n",
        "        'Predicted Distance': predictions.flatten()\n",
        "    })\n",
        "\n",
        "    # Menampilkan 5 tempat terdekat dari hasil prediksi\n",
        "    nearest_places = df_places.nsmallest(5, 'distance')\n",
        "    print(\"5 Tempat terdekat:\")\n",
        "    print(nearest_places[['place_id', 'place_name', 'distance']])\n",
        "\n",
        "    model.save('travelin.h5')\n",
        "    with open('travelin.pkl', 'wb') as f:\n",
        "        pickle.dump(model, f)\n",
        "\n",
        "    converter = tf.lite.TFLiteConverter.from_keras_model(model)\n",
        "    tflite_model = converter.convert()\n",
        "\n",
        "    # Save the TFLite model\n",
        "    with open('travelin.tflite', 'wb') as f:\n",
        "        f.write(tflite_model)\n",
        "\n",
        "    return nearest_places, history, df_predictions"
      ],
      "metadata": {
        "id": "UN1LWpBB5ASR"
      },
      "execution_count": null,
      "outputs": []
    },
    {
      "cell_type": "code",
      "source": [
        "user_id = \"c72b39e9-12c2-4d75-bafb-00e0c6d9a70f\"\n",
        "nearest_place, history, df_predictions = reccomended_destination(user_id)"
      ],
      "metadata": {
        "colab": {
          "base_uri": "https://localhost:8080/"
        },
        "id": "ByuVU9TmL55Q",
        "outputId": "5e1ac691-8258-49f4-b26e-4dab497a941b"
      },
      "execution_count": null,
      "outputs": [
        {
          "output_type": "stream",
          "name": "stderr",
          "text": [
            "/usr/local/lib/python3.10/dist-packages/keras/src/layers/core/dense.py:87: UserWarning: Do not pass an `input_shape`/`input_dim` argument to a layer. When using Sequential models, prefer using an `Input(shape)` object as the first layer in the model instead.\n",
            "  super().__init__(activity_regularizer=activity_regularizer, **kwargs)\n"
          ]
        },
        {
          "output_type": "stream",
          "name": "stdout",
          "text": [
            "Epoch 1/100\n",
            "\u001b[1m5/5\u001b[0m \u001b[32m━━━━━━━━━━━━━━━━━━━━\u001b[0m\u001b[37m\u001b[0m \u001b[1m4s\u001b[0m 209ms/step - loss: 0.2544 - mae: 0.4061 - val_loss: 0.1578 - val_mae: 0.3107 - learning_rate: 1.0000e-04\n",
            "Epoch 2/100\n",
            "\u001b[1m5/5\u001b[0m \u001b[32m━━━━━━━━━━━━━━━━━━━━\u001b[0m\u001b[37m\u001b[0m \u001b[1m0s\u001b[0m 27ms/step - loss: 0.1628 - mae: 0.3253 - val_loss: 0.1217 - val_mae: 0.2689 - learning_rate: 1.0000e-04\n",
            "Epoch 3/100\n",
            "\u001b[1m5/5\u001b[0m \u001b[32m━━━━━━━━━━━━━━━━━━━━\u001b[0m\u001b[37m\u001b[0m \u001b[1m0s\u001b[0m 30ms/step - loss: 0.1294 - mae: 0.2864 - val_loss: 0.0943 - val_mae: 0.2511 - learning_rate: 1.0000e-04\n",
            "Epoch 4/100\n",
            "\u001b[1m5/5\u001b[0m \u001b[32m━━━━━━━━━━━━━━━━━━━━\u001b[0m\u001b[37m\u001b[0m \u001b[1m0s\u001b[0m 64ms/step - loss: 0.1086 - mae: 0.2803 - val_loss: 0.0737 - val_mae: 0.2321 - learning_rate: 1.0000e-04\n",
            "Epoch 5/100\n",
            "\u001b[1m5/5\u001b[0m \u001b[32m━━━━━━━━━━━━━━━━━━━━\u001b[0m\u001b[37m\u001b[0m \u001b[1m0s\u001b[0m 46ms/step - loss: 0.0903 - mae: 0.2603 - val_loss: 0.0573 - val_mae: 0.2140 - learning_rate: 1.0000e-04\n",
            "Epoch 6/100\n",
            "\u001b[1m5/5\u001b[0m \u001b[32m━━━━━━━━━━━━━━━━━━━━\u001b[0m\u001b[37m\u001b[0m \u001b[1m0s\u001b[0m 34ms/step - loss: 0.0597 - mae: 0.2149 - val_loss: 0.0446 - val_mae: 0.1934 - learning_rate: 1.0000e-04\n",
            "Epoch 7/100\n",
            "\u001b[1m5/5\u001b[0m \u001b[32m━━━━━━━━━━━━━━━━━━━━\u001b[0m\u001b[37m\u001b[0m \u001b[1m0s\u001b[0m 35ms/step - loss: 0.0535 - mae: 0.2041 - val_loss: 0.0349 - val_mae: 0.1713 - learning_rate: 1.0000e-04\n",
            "Epoch 8/100\n",
            "\u001b[1m5/5\u001b[0m \u001b[32m━━━━━━━━━━━━━━━━━━━━\u001b[0m\u001b[37m\u001b[0m \u001b[1m0s\u001b[0m 38ms/step - loss: 0.0420 - mae: 0.1786 - val_loss: 0.0251 - val_mae: 0.1428 - learning_rate: 1.0000e-04\n",
            "Epoch 9/100\n",
            "\u001b[1m5/5\u001b[0m \u001b[32m━━━━━━━━━━━━━━━━━━━━\u001b[0m\u001b[37m\u001b[0m \u001b[1m0s\u001b[0m 41ms/step - loss: 0.0316 - mae: 0.1486 - val_loss: 0.0192 - val_mae: 0.1192 - learning_rate: 1.0000e-04\n",
            "Epoch 10/100\n",
            "\u001b[1m5/5\u001b[0m \u001b[32m━━━━━━━━━━━━━━━━━━━━\u001b[0m\u001b[37m\u001b[0m \u001b[1m0s\u001b[0m 55ms/step - loss: 0.0230 - mae: 0.1252 - val_loss: 0.0118 - val_mae: 0.0948 - learning_rate: 1.0000e-04\n",
            "Epoch 11/100\n",
            "\u001b[1m5/5\u001b[0m \u001b[32m━━━━━━━━━━━━━━━━━━━━\u001b[0m\u001b[37m\u001b[0m \u001b[1m0s\u001b[0m 31ms/step - loss: 0.0182 - mae: 0.1098 - val_loss: 0.0083 - val_mae: 0.0769 - learning_rate: 1.0000e-04\n",
            "Epoch 12/100\n",
            "\u001b[1m5/5\u001b[0m \u001b[32m━━━━━━━━━━━━━━━━━━━━\u001b[0m\u001b[37m\u001b[0m \u001b[1m0s\u001b[0m 28ms/step - loss: 0.0156 - mae: 0.1019 - val_loss: 0.0058 - val_mae: 0.0648 - learning_rate: 1.0000e-04\n",
            "Epoch 13/100\n",
            "\u001b[1m5/5\u001b[0m \u001b[32m━━━━━━━━━━━━━━━━━━━━\u001b[0m\u001b[37m\u001b[0m \u001b[1m0s\u001b[0m 28ms/step - loss: 0.0187 - mae: 0.1073 - val_loss: 0.0044 - val_mae: 0.0594 - learning_rate: 1.0000e-04\n",
            "Epoch 14/100\n",
            "\u001b[1m5/5\u001b[0m \u001b[32m━━━━━━━━━━━━━━━━━━━━\u001b[0m\u001b[37m\u001b[0m \u001b[1m0s\u001b[0m 50ms/step - loss: 0.0119 - mae: 0.0829 - val_loss: 0.0019 - val_mae: 0.0303 - learning_rate: 1.0000e-04\n",
            "Epoch 15/100\n",
            "\u001b[1m5/5\u001b[0m \u001b[32m━━━━━━━━━━━━━━━━━━━━\u001b[0m\u001b[37m\u001b[0m \u001b[1m1s\u001b[0m 38ms/step - loss: 0.0113 - mae: 0.0847 - val_loss: 0.0019 - val_mae: 0.0380 - learning_rate: 1.0000e-04\n",
            "Epoch 16/100\n",
            "\u001b[1m5/5\u001b[0m \u001b[32m━━━━━━━━━━━━━━━━━━━━\u001b[0m\u001b[37m\u001b[0m \u001b[1m0s\u001b[0m 79ms/step - loss: 0.0081 - mae: 0.0727 - val_loss: 9.7838e-04 - val_mae: 0.0247 - learning_rate: 1.0000e-04\n",
            "Epoch 17/100\n",
            "\u001b[1m5/5\u001b[0m \u001b[32m━━━━━━━━━━━━━━━━━━━━\u001b[0m\u001b[37m\u001b[0m \u001b[1m0s\u001b[0m 40ms/step - loss: 0.0080 - mae: 0.0750 - val_loss: 0.0013 - val_mae: 0.0282 - learning_rate: 1.0000e-04\n",
            "Epoch 18/100\n",
            "\u001b[1m5/5\u001b[0m \u001b[32m━━━━━━━━━━━━━━━━━━━━\u001b[0m\u001b[37m\u001b[0m \u001b[1m0s\u001b[0m 41ms/step - loss: 0.0063 - mae: 0.0629 - val_loss: 0.0012 - val_mae: 0.0285 - learning_rate: 1.0000e-04\n",
            "Epoch 19/100\n",
            "\u001b[1m5/5\u001b[0m \u001b[32m━━━━━━━━━━━━━━━━━━━━\u001b[0m\u001b[37m\u001b[0m \u001b[1m0s\u001b[0m 24ms/step - loss: 0.0090 - mae: 0.0726 - val_loss: 0.0021 - val_mae: 0.0349 - learning_rate: 1.0000e-04\n",
            "Epoch 20/100\n",
            "\u001b[1m5/5\u001b[0m \u001b[32m━━━━━━━━━━━━━━━━━━━━\u001b[0m\u001b[37m\u001b[0m \u001b[1m0s\u001b[0m 26ms/step - loss: 0.0092 - mae: 0.0724 - val_loss: 0.0017 - val_mae: 0.0370 - learning_rate: 1.0000e-04\n",
            "Epoch 21/100\n",
            "\u001b[1m5/5\u001b[0m \u001b[32m━━━━━━━━━━━━━━━━━━━━\u001b[0m\u001b[37m\u001b[0m \u001b[1m0s\u001b[0m 68ms/step - loss: 0.0058 - mae: 0.0611 - val_loss: 0.0014 - val_mae: 0.0327 - learning_rate: 1.0000e-04\n",
            "Epoch 22/100\n",
            "\u001b[1m5/5\u001b[0m \u001b[32m━━━━━━━━━━━━━━━━━━━━\u001b[0m\u001b[37m\u001b[0m \u001b[1m0s\u001b[0m 61ms/step - loss: 0.0077 - mae: 0.0660 - val_loss: 0.0026 - val_mae: 0.0407 - learning_rate: 1.0000e-04\n",
            "Epoch 23/100\n",
            "\u001b[1m5/5\u001b[0m \u001b[32m━━━━━━━━━━━━━━━━━━━━\u001b[0m\u001b[37m\u001b[0m \u001b[1m1s\u001b[0m 70ms/step - loss: 0.0055 - mae: 0.0584 - val_loss: 0.0021 - val_mae: 0.0404 - learning_rate: 1.0000e-04\n",
            "Epoch 24/100\n",
            "\u001b[1m5/5\u001b[0m \u001b[32m━━━━━━━━━━━━━━━━━━━━\u001b[0m\u001b[37m\u001b[0m \u001b[1m0s\u001b[0m 72ms/step - loss: 0.0050 - mae: 0.0576 - val_loss: 0.0040 - val_mae: 0.0487 - learning_rate: 1.0000e-04\n",
            "Epoch 25/100\n",
            "\u001b[1m5/5\u001b[0m \u001b[32m━━━━━━━━━━━━━━━━━━━━\u001b[0m\u001b[37m\u001b[0m \u001b[1m1s\u001b[0m 60ms/step - loss: 0.0050 - mae: 0.0574 - val_loss: 0.0041 - val_mae: 0.0517 - learning_rate: 1.0000e-04\n",
            "Epoch 26/100\n",
            "\u001b[1m5/5\u001b[0m \u001b[32m━━━━━━━━━━━━━━━━━━━━\u001b[0m\u001b[37m\u001b[0m \u001b[1m0s\u001b[0m 35ms/step - loss: 0.0070 - mae: 0.0635 - val_loss: 0.0015 - val_mae: 0.0318 - learning_rate: 1.0000e-04\n",
            "\u001b[1m2/2\u001b[0m \u001b[32m━━━━━━━━━━━━━━━━━━━━\u001b[0m\u001b[37m\u001b[0m \u001b[1m0s\u001b[0m 20ms/step - loss: 9.3062e-04 - mae: 0.0273 \n",
            "Model MAE: 0.03 km\n",
            "\u001b[1m2/2\u001b[0m \u001b[32m━━━━━━━━━━━━━━━━━━━━\u001b[0m\u001b[37m\u001b[0m \u001b[1m1s\u001b[0m 299ms/step\n"
          ]
        },
        {
          "output_type": "stream",
          "name": "stderr",
          "text": [
            "WARNING:absl:You are saving your model as an HDF5 file via `model.save()` or `keras.saving.save_model(model)`. This file format is considered legacy. We recommend using instead the native Keras format, e.g. `model.save('my_model.keras')` or `keras.saving.save_model(model, 'my_model.keras')`. \n"
          ]
        },
        {
          "output_type": "stream",
          "name": "stdout",
          "text": [
            "5 Tempat terdekat:\n",
            "     place_id                   place_name  distance\n",
            "41         30        Perpustakaan Nasional  0.634084\n",
            "167        24  Museum Kebangkitan Nasional  0.672501\n",
            "15          1             Monumen Nasional  0.858255\n",
            "137         6                   Pasar Seni  1.118724\n",
            "90         20          Jakarta Planetarium  1.227059\n",
            "Saved artifact at '/tmp/tmpiiudwcf0'. The following endpoints are available:\n",
            "\n",
            "* Endpoint 'serve'\n",
            "  args_0 (POSITIONAL_ONLY): TensorSpec(shape=(None, 4), dtype=tf.float32, name='keras_tensor_8')\n",
            "Output Type:\n",
            "  TensorSpec(shape=(None, 1), dtype=tf.float32, name=None)\n",
            "Captures:\n",
            "  134787802406176: TensorSpec(shape=(), dtype=tf.resource, name=None)\n",
            "  134787800004240: TensorSpec(shape=(), dtype=tf.resource, name=None)\n",
            "  134787800023984: TensorSpec(shape=(), dtype=tf.resource, name=None)\n",
            "  134787800024160: TensorSpec(shape=(), dtype=tf.resource, name=None)\n",
            "  134787800027680: TensorSpec(shape=(), dtype=tf.resource, name=None)\n",
            "  134787800025568: TensorSpec(shape=(), dtype=tf.resource, name=None)\n",
            "  134787800027504: TensorSpec(shape=(), dtype=tf.resource, name=None)\n",
            "  134787800028032: TensorSpec(shape=(), dtype=tf.resource, name=None)\n",
            "  134787800030496: TensorSpec(shape=(), dtype=tf.resource, name=None)\n",
            "  134787800026272: TensorSpec(shape=(), dtype=tf.resource, name=None)\n"
          ]
        }
      ]
    },
    {
      "cell_type": "code",
      "source": [
        "\n",
        "# Plotting the training and validation loss\n",
        "if history is not None:\n",
        "    plt.figure(figsize=(10, 5))\n",
        "    plt.plot(history.history['loss'], label='Training Loss')\n",
        "    plt.plot(history.history['val_loss'], label='Validation Loss')\n",
        "    plt.title('Model Training and Validation Loss')\n",
        "    plt.ylabel('Loss (MSE)')\n",
        "    plt.xlabel('Epoch')\n",
        "    plt.legend(loc='upper right')\n",
        "    plt.show()\n",
        "\n",
        "    # If you want to analyze additional metrics (like MAE if added during model.compile)\n",
        "    if 'mae' in history.history:\n",
        "        plt.figure(figsize=(10, 5))\n",
        "        plt.plot(history.history['mae'], label='Training MAE')\n",
        "        plt.plot(history.history['val_mae'], label='Validation MAE')\n",
        "        plt.title('Model Training and Validation MAE')\n",
        "        plt.ylabel('Mean Absolute Error (km)')\n",
        "        plt.xlabel('Epoch')\n",
        "        plt.legend(loc='upper right')\n",
        "        plt.show()\n",
        "else:\n",
        "    print(\"Model training failed or history is not available.\")"
      ],
      "metadata": {
        "colab": {
          "base_uri": "https://localhost:8080/",
          "height": 957
        },
        "id": "BDBJ3dAcL_9f",
        "outputId": "a1c3b694-af17-425f-85ab-eb1182f760c1"
      },
      "execution_count": null,
      "outputs": [
        {
          "output_type": "display_data",
          "data": {
            "text/plain": [
              "<Figure size 1000x500 with 1 Axes>"
            ],
            "image/png": "[encoded data removed]"
          },
          "metadata": {}
        },
        {
          "output_type": "display_data",
          "data": {
            "text/plain": [
              "<Figure size 1000x500 with 1 Axes>"
            ],
            "image/png": "[encoded data removed]"
          },
          "metadata": {}
        }
      ]
    },
    {
      "cell_type": "code",
      "source": [
        "\n",
        "# Contoh nilai y_test dan y_pred\n",
        "y_test = df_predictions['Actual Distance'].values\n",
        "y_pred = df_predictions['Predicted Distance'].values\n",
        "\n",
        "# Menghapus nilai nol atau negatif dari y_test dan y_pred\n",
        "y_test_cleaned = y_test[y_test > 0]  # Hapus nilai nol atau negatif\n",
        "y_pred_cleaned = y_pred[:len(y_test_cleaned)]\n",
        "\n",
        "\n",
        "# Hapus nilai yang mendekati nol (misalnya lebih kecil dari 0.01)\n",
        "valid_indices = y_test > 0.01\n",
        "y_test_valid = y_test[valid_indices]\n",
        "y_pred_valid = y_pred[valid_indices]\n",
        "\n",
        "# Hitung MAPE kembali setelah validasi\n",
        "mape = np.mean(np.abs((y_test_valid - y_pred_valid) / y_test_valid)) * 100\n",
        "accuracy = 100 - mape\n",
        "print(f\"MAPE: {mape:.2f}%\")\n",
        "print(f\"Akurasi Model: {accuracy:.2f}%\")\n",
        "mse = np.mean((y_test - y_pred) ** 2)\n",
        "mae = np.mean(np.abs(y_test - y_pred))\n",
        "print(f\"MSE: {mse}\")\n",
        "print(f\"MAE: {mae}\")"
      ],
      "metadata": {
        "colab": {
          "base_uri": "https://localhost:8080/"
        },
        "id": "77prG2IcML3V",
        "outputId": "bf743971-a854-40a3-af96-92b8e9207d51"
      },
      "execution_count": null,
      "outputs": [
        {
          "output_type": "stream",
          "name": "stdout",
          "text": [
            "MAPE: 7.02%\n",
            "Akurasi Model: 92.98%\n",
            "MSE: 0.0009286067530530312\n",
            "MAE: 0.027169595089324688\n"
          ]
        }
      ]
    }
  ],
  "metadata": {
    "colab": {
      "provenance": []
    },
    "kernelspec": {
      "display_name": "Python 3",
      "name": "python3"
    },
    "language_info": {
      "name": "python"
    }
  },
  "nbformat": 4,
  "nbformat_minor": 0
}